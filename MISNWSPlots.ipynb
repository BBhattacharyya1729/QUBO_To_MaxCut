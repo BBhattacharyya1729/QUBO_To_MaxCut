{
 "cells": [
  {
   "cell_type": "code",
   "execution_count": null,
   "id": "115ac0e7-8fa6-4d41-b858-4a0514b0aa11",
   "metadata": {},
   "outputs": [],
   "source": [
    "import pickle as pkl\n",
    "from QAOAUtils import *\n",
    "from tqdm import tqdm\n",
    "from tqdm.contrib import itertools\n",
    "from tqdm.notebook import tqdm\n",
    "import matplotlib.pyplot as plt\n",
    "from matplotlib.markers import MarkerStyle\n",
    "from matplotlib.gridspec import GridSpec"
   ]
  },
  {
   "cell_type": "code",
   "execution_count": null,
   "id": "05061589-2eb5-4ae0-9f97-9f12dd0e2002",
   "metadata": {},
   "outputs": [],
   "source": [
    "DATA = pkl.load( open (\"MISNWSFullTest.p\", \"rb\") )\n",
    "PSC_DATA = pkl.load( open (\"PSCMISNWSFullTest.p\", \"rb\") )\n",
    "depth_DATA= pkl.load( open (\"TSPMISDepth0Test.p\", \"rb\") )\n",
    "PSC_DATA50 = pkl.load( open (\"PSCMISNWSFullTest50.p\", \"rb\") )\n",
    "with open(\"DistancesMIS-NWS.p\", \"rb\") as file:\n",
    "    results = pkl.load(file)\n",
    "VDISTANCE50 = results[\"VDISTANCE50\"]\n",
    "DISTANCE50 = results[\"DISTANCE50\"]\n",
    "VDISTANCE10 = results[\"VDISTANCE10\"]\n",
    "DISTANCE10 = results[\"DISTANCE10\"]\n",
    "PSCDISTANCE10 = results[\"PSCDISTANCE10\"]\n",
    "PSCDISTANCE50 = results[\"PSCDISTANCE50\"]\n",
    "PSCVDISTANCE10 = results[\"PSCVDISTANCE10\"]\n",
    "PSCVDISTANCE50 = results[\"PSCVDISTANCE50\"]\n"
   ]
  },
  {
   "cell_type": "code",
   "execution_count": null,
   "id": "145e54a0-22e0-4bd8-a022-5b1db22ab39c",
   "metadata": {},
   "outputs": [],
   "source": [
    "idx_list = np.linspace(50,950,10,dtype='int')\n",
    "M_list= [depth_DATA[10][i][-1] for i in idx_list]\n",
    "A_list = [depth_DATA[11][i] for i in idx_list]\n",
    "idx_dict = {'MIS-NWS':[0,10]}\n",
    "p_data = {'MIS-NWS':depth_DATA[8:12]}\n",
    "ws_list = ['BM2','BM3','GW2','GW3']"
   ]
  },
  {
   "cell_type": "code",
   "execution_count": null,
   "id": "ac1c54c5-c19f-445c-9350-639062eb3dde",
   "metadata": {},
   "outputs": [],
   "source": [
    "max_cost_hist(\"MIS-NWS\",p_data, path=r'Figures\\MIS-NWS\\Max_Cost_Hist')"
   ]
  },
  {
   "cell_type": "code",
   "execution_count": null,
   "id": "f00b8bac-434b-4717-82a0-dc8d41fd848b",
   "metadata": {},
   "outputs": [],
   "source": [
    "max_prob_hist(\"MIS-NWS\",p_data, path=r'Figures\\MIS-NWS\\Max_Prob_Hist')"
   ]
  },
  {
   "cell_type": "code",
   "execution_count": null,
   "id": "fffc4de2-53fb-4e8e-8518-95d4319c52cb",
   "metadata": {},
   "outputs": [],
   "source": [
    "cost_scatter(\"MIS-NWS\",p_data, path=r'Figures\\MIS-NWS\\Cost_Scatter')"
   ]
  },
  {
   "cell_type": "code",
   "execution_count": null,
   "id": "5fbc315e-8a6c-4c8e-bba7-a566453e412b",
   "metadata": {},
   "outputs": [],
   "source": [
    "prob_boxplot(\"MIS-NWS\", p_data, path=r'Figures\\MIS-NWS\\Prob_BoxPlot')"
   ]
  },
  {
   "cell_type": "code",
   "execution_count": null,
   "id": "c8b85df6-1768-4957-8523-44db71b74422",
   "metadata": {},
   "outputs": [],
   "source": [
    "final_boxplot(\"MIS-NWS\", p_data, path=r'Figures\\MIS-NWS\\Comparison_Boxplot')"
   ]
  },
  {
   "cell_type": "code",
   "execution_count": null,
   "id": "2904ca1a-74d5-4355-b755-bc62facdf2ac",
   "metadata": {},
   "outputs": [],
   "source": [
    "get_depth_combined(\"MIS-NWS\", DATA, PSC_DATA50, M_list, A_list, idx_dict, path=r\"Figures\\MIS-NWS\\Full_Comparison\")"
   ]
  },
  {
   "cell_type": "code",
   "execution_count": null,
   "id": "c9256420-a7dc-4e6a-8bb0-ec1d30233463",
   "metadata": {},
   "outputs": [],
   "source": [
    "get_depth_combined_gw2(\"MIS-NWS\", DATA, PSC_DATA50, M_list, A_list, idx_dict, path=r\"Figures\\MIS-NWS\\Full_Comparison_gw2\")"
   ]
  },
  {
   "cell_type": "code",
   "execution_count": null,
   "id": "3fcb97aa-5ef3-4dee-96a5-1fb29f613052",
   "metadata": {},
   "outputs": [],
   "source": [
    "get_depth_combined_gw3(\"MIS-NWS\", DATA, PSC_DATA50, M_list, A_list, idx_dict, path=r\"Figures\\MIS-NWS\\Full_Comparison_gw3\")"
   ]
  }
 ],
 "metadata": {
  "kernelspec": {
   "display_name": "Python 3 (ipykernel)",
   "language": "python",
   "name": "python3"
  },
  "language_info": {
   "codemirror_mode": {
    "name": "ipython",
    "version": 3
   },
   "file_extension": ".py",
   "mimetype": "text/x-python",
   "name": "python",
   "nbconvert_exporter": "python",
   "pygments_lexer": "ipython3",
   "version": "3.12.2"
  }
 },
 "nbformat": 4,
 "nbformat_minor": 5
}
