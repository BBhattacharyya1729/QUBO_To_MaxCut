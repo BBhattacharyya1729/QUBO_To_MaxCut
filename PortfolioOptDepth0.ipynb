{
 "cells": [
  {
   "cell_type": "code",
   "execution_count": null,
   "id": "0408ed2a-b81c-4275-a3fa-e2ffd1ad6014",
   "metadata": {},
   "outputs": [],
   "source": [
    "from QAOAUtils import *\n",
    "import pickle as pkl\n",
    "from oputils import *"
   ]
  },
  {
   "cell_type": "code",
   "execution_count": null,
   "id": "c99674d4-0b5d-45c1-a3be-b493fa1c56da",
   "metadata": {},
   "outputs": [],
   "source": [
    "DATA = []\n",
    "ws_list = ['GW2','GW3','BM2','BM3']\n",
    "n = 17\n",
    "rotation_options = list(range(n))+[None]\n",
    "count=1000"
   ]
  },
  {
   "cell_type": "code",
   "execution_count": null,
   "id": "2a10aa87-b20e-4877-a43c-5acffedac1e8",
   "metadata": {},
   "outputs": [],
   "source": [
    "stock_data = []\n",
    "def PO_A():\n",
    "    price_data = geometric_brownian_prices(max_drift=0.05,max_volatility=0.2,T=250,N=n-1)\n",
    "    price_data = np.random.permutation(price_data.T).T\n",
    "    mu,sigma=mu_sigma(price_data)\n",
    "    stock_data.append({'mu':mu,'sigma':sigma})\n",
    "    _, Q = simple_PO_QUBO(mu,sigma,q=2,B=10)\n",
    "    return dual_graph(Q)\n",
    "comparison_data,best_angle_data,ws_data,A_list = depth0_ws_comp(n,A_func= PO_A,ws_list = ws_list,rotation_options = rotation_options,count=count)\n",
    "DATA+=[comparison_data,best_angle_data,ws_data,A_list]"
   ]
  },
  {
   "cell_type": "code",
   "execution_count": null,
   "id": "e31d9d61-7251-4f1a-aeea-b0c0b5b66113",
   "metadata": {},
   "outputs": [],
   "source": [
    "pkl.dump( DATA, open( \"PortfolioOptDepth0Test.p\", \"wb\" ) )\n",
    "pkl.dump( stock_data, open( \"stock_data_depth0.p\", \"wb\" ) )"
   ]
  }
 ],
 "metadata": {
  "kernelspec": {
   "display_name": "Python 3 (ipykernel)",
   "language": "python",
   "name": "python3"
  },
  "language_info": {
   "codemirror_mode": {
    "name": "ipython",
    "version": 3
   },
   "file_extension": ".py",
   "mimetype": "text/x-python",
   "name": "python",
   "nbconvert_exporter": "python",
   "pygments_lexer": "ipython3",
   "version": "3.12.2"
  }
 },
 "nbformat": 4,
 "nbformat_minor": 5
}
