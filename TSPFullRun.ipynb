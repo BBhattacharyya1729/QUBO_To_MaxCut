{
 "cells": [
  {
   "cell_type": "code",
   "execution_count": null,
   "id": "cba8e1ab-3fdd-4f7b-b880-415fbe008538",
   "metadata": {},
   "outputs": [],
   "source": [
    "from QAOAUtils import *\n",
    "from PSC import *\n",
    "import pickle as pkl\n",
    "from qiskit_algorithms.optimizers import COBYLA"
   ]
  },
  {
   "cell_type": "code",
   "execution_count": null,
   "id": "96552203-2b27-4b70-a2a2-3ceec75c5a57",
   "metadata": {},
   "outputs": [],
   "source": [
    "DATA = pkl.load( open (\"TSPMISDepth0Test.p\", \"rb\") )"
   ]
  },
  {
   "cell_type": "code",
   "execution_count": null,
   "id": "3123c389-72cd-4369-a0ea-e49ddfbad3c3",
   "metadata": {},
   "outputs": [],
   "source": [
    "idx_list = np.linspace(50,950,10,dtype='int')\n",
    "\n",
    "TSP_A_list = [DATA[3][i] for i in idx_list]\n",
    "TSP_init_list = [DATA[2][i] for i in idx_list]\n",
    "\n",
    "DATA = []\n",
    "PSC_DATA = []\n",
    "PSC_DATA50 = []\n",
    "ws_list  = ['GW2','GW3', 'BM2', 'BM3', None]\n",
    "###Configure \n",
    "opt=COBYLA(maxiter=50)"
   ]
  },
  {
   "cell_type": "code",
   "execution_count": null,
   "id": "2f585a9c-cf51-49ca-adf4-49fd2687f9f6",
   "metadata": {},
   "outputs": [],
   "source": [
    "for _ in tqdm(range(10)):\n",
    "    A = TSP_A_list[_]\n",
    "    initial_data = TSP_init_list[_]\n",
    "    do=warmstart_comp(A=A,opt=opt,p_max=5,rotation_options=[0,-1,None],reps=10,optimizer_kwargs={'name':None,'verbose':False},ws_list=ws_list,initial_data=initial_data,keep_hist=True)\n",
    "    DATA.append(do[-1])"
   ]
  },
  {
   "cell_type": "code",
   "execution_count": null,
   "id": "38396ed5-c41f-4a6a-acfd-073966fb3a25",
   "metadata": {},
   "outputs": [],
   "source": [
    "pkl.dump( DATA, open( \"TSPFullTest.p\", \"wb\" ) )"
   ]
  },
  {
   "cell_type": "code",
   "execution_count": null,
   "id": "99f15fa9-7ac9-4784-bd24-d52827519372",
   "metadata": {},
   "outputs": [],
   "source": [
    "for _ in tqdm(range(10)):\n",
    "    A = TSP_A_list[_]\n",
    "    do = PSC_Run(A,opt,p_max=5,optimizer_kwargs={'name':None,'verbose':False},keep_hist=False,eps=0.1,reps=10)\n",
    "    PSC_DATA.append(do)"
   ]
  },
  {
   "cell_type": "code",
   "execution_count": null,
   "id": "e4dbdaae-2455-4ba4-95c4-d6215bd31ee4",
   "metadata": {},
   "outputs": [],
   "source": [
    "pkl.dump( PSC_DATA, open( \"PSCTSPFullTest.p\", \"wb\" ) )"
   ]
  },
  {
   "cell_type": "code",
   "execution_count": null,
   "id": "86c693fe-be0c-4227-b952-603abe552971",
   "metadata": {},
   "outputs": [],
   "source": [
    "for _ in tqdm(range(10)):\n",
    "    A = TSP_A_list[_]\n",
    "    do = PSC_Run(A,opt,p_max=5,optimizer_kwargs={'name':None,'verbose':False},keep_hist=False,eps=0.1,reps=10,relaxed_reps=50)\n",
    "    PSC_DATA50.append(do)"
   ]
  },
  {
   "cell_type": "code",
   "execution_count": null,
   "id": "a57764fc-f588-415c-8dd1-ba129289de6e",
   "metadata": {},
   "outputs": [],
   "source": [
    "pkl.dump( PSC_DATA50, open( \"PSCTSPFullTest50.p\", \"wb\" ) )"
   ]
  }
 ],
 "metadata": {
  "kernelspec": {
   "display_name": "Python 3 (ipykernel)",
   "language": "python",
   "name": "python3"
  },
  "language_info": {
   "codemirror_mode": {
    "name": "ipython",
    "version": 3
   },
   "file_extension": ".py",
   "mimetype": "text/x-python",
   "name": "python",
   "nbconvert_exporter": "python",
   "pygments_lexer": "ipython3",
   "version": "3.12.2"
  }
 },
 "nbformat": 4,
 "nbformat_minor": 5
}
