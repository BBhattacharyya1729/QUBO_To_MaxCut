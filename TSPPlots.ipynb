{
 "cells": [
  {
   "cell_type": "code",
   "execution_count": null,
   "id": "29d17b20-fa9b-47d8-a09d-644e81c2d47f",
   "metadata": {},
   "outputs": [],
   "source": [
    "import pickle as pkl\n",
    "from QAOAUtils import *\n",
    "from tqdm import tqdm\n",
    "from tqdm.contrib import itertools\n",
    "from tqdm.notebook import tqdm\n",
    "import matplotlib.pyplot as plt\n",
    "from matplotlib.markers import MarkerStyle\n",
    "from matplotlib.gridspec import GridSpec\n",
    "from collections import Counter"
   ]
  },
  {
   "cell_type": "code",
   "execution_count": null,
   "id": "d5da1743-82df-4f94-941f-c458f2c1023c",
   "metadata": {},
   "outputs": [],
   "source": [
    "DATA = pkl.load( open (\"TSPFullTest.p\", \"rb\") )\n",
    "PSC_DATA = pkl.load( open (\"PSCTSPFullTest.p\", \"rb\") )\n",
    "depth_DATA= pkl.load( open (\"TSPMISDepth0Test.p\", \"rb\") )\n",
    "PSC_DATA50 = pkl.load( open (\"PSCTSPFullTest50.p\", \"rb\") )\n",
    "with open(\"DistancesTSP.p\", \"rb\") as file:\n",
    "    results = pkl.load(file)\n",
    "VDISTANCE50 = results[\"VDISTANCE50\"]\n",
    "DISTANCE50 = results[\"DISTANCE50\"]\n",
    "VDISTANCE10 = results[\"VDISTANCE10\"]\n",
    "DISTANCE10 = results[\"DISTANCE10\"]\n",
    "PSCDISTANCE10 = results[\"PSCDISTANCE10\"]\n",
    "PSCDISTANCE50 = results[\"PSCDISTANCE50\"]"
   ]
  },
  {
   "cell_type": "code",
   "execution_count": null,
   "id": "c6bc27fa-fd6d-4e36-922e-6e5a949f97c4",
   "metadata": {},
   "outputs": [],
   "source": [
    "idx_list = np.linspace(50,950,10,dtype='int')\n",
    "M_list= [depth_DATA[2][i][-1] for i in idx_list]\n",
    "A_list = [depth_DATA[3][i] for i in idx_list]\n",
    "idx_dict = {'TSP':[0,10]}\n",
    "p_data = {'TSP':depth_DATA[0:4]}\n",
    "ws_list = ['BM2','BM3','GW2','GW3']"
   ]
  },
  {
   "cell_type": "code",
   "execution_count": null,
   "id": "c16d88ce-6f31-4399-abdc-2165b749940f",
   "metadata": {},
   "outputs": [],
   "source": [
    "max_cost_hist(\"TSP\",p_data, path=r'Figures\\TSP\\Max_Cost_Hist')"
   ]
  },
  {
   "cell_type": "code",
   "execution_count": null,
   "id": "106ca77a-74c4-4da9-908d-e4f4b3263ac7",
   "metadata": {},
   "outputs": [],
   "source": [
    "max_prob_hist(\"TSP\",p_data, path=r'Figures\\TSP\\Max_Prob_Hist')"
   ]
  },
  {
   "cell_type": "code",
   "execution_count": null,
   "id": "4a0f2bcd-14f6-49a3-b9c0-420a9c417f23",
   "metadata": {},
   "outputs": [],
   "source": [
    "cost_scatter(\"TSP\",p_data, path=r'Figures\\TSP\\Cost_Scatter')"
   ]
  },
  {
   "cell_type": "code",
   "execution_count": null,
   "id": "ed94613f-6d73-476c-b5bc-114d8e4315a4",
   "metadata": {},
   "outputs": [],
   "source": [
    "prob_boxplot(\"TSP\", p_data, path=r'Figures\\TSP\\Prob_BoxPlot')"
   ]
  },
  {
   "cell_type": "code",
   "execution_count": null,
   "id": "dc3d61e4-d23b-4471-bb89-f08f5d882cf7",
   "metadata": {},
   "outputs": [],
   "source": [
    "final_boxplot(\"TSP\", p_data, path=r'Figures\\TSP\\Comparison_Boxplot')"
   ]
  },
  {
   "cell_type": "code",
   "execution_count": null,
   "id": "3c1cf702-9a38-4c72-9786-40ee33551043",
   "metadata": {},
   "outputs": [],
   "source": [
    "get_depth_combined(\"TSP\", DATA, PSC_DATA50, M_list, A_list, idx_dict, path=r\"Figures\\TSP\\Full_Comparison\")"
   ]
  },
  {
   "cell_type": "code",
   "execution_count": null,
   "id": "c0266302-27ed-4c39-bd63-935f19e56652",
   "metadata": {},
   "outputs": [],
   "source": [
    "get_depth_combined_gw2(\"TSP\", DATA, PSC_DATA50, M_list, A_list, idx_dict, path=r\"Figures\\TSP\\Full_Comparison_gw2\")"
   ]
  },
  {
   "cell_type": "code",
   "execution_count": null,
   "id": "f06a62b3-eede-41e2-bb9d-538c5a8f139e",
   "metadata": {},
   "outputs": [],
   "source": [
    "get_depth_combined_gw3(\"TSP\", DATA, PSC_DATA50, M_list, A_list, idx_dict, path=r\"Figures\\TSP\\Full_Comparison_gw3\")"
   ]
  }
 ],
 "metadata": {
  "kernelspec": {
   "display_name": "Python 3 (ipykernel)",
   "language": "python",
   "name": "python3"
  },
  "language_info": {
   "codemirror_mode": {
    "name": "ipython",
    "version": 3
   },
   "file_extension": ".py",
   "mimetype": "text/x-python",
   "name": "python",
   "nbconvert_exporter": "python",
   "pygments_lexer": "ipython3",
   "version": "3.12.2"
  }
 },
 "nbformat": 4,
 "nbformat_minor": 5
}
