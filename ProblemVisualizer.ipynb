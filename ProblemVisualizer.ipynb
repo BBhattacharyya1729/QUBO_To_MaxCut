{
 "cells": [
  {
   "cell_type": "code",
   "execution_count": null,
   "id": "f10b105e-455a-4fb8-9bd5-b1890ce1430c",
   "metadata": {},
   "outputs": [],
   "source": [
    "from QAOAUtils import *\n",
    "from oputils import *\n"
   ]
  },
  {
   "cell_type": "code",
   "execution_count": null,
   "id": "f0041b02-a9c2-446a-9d76-9516794c7f51",
   "metadata": {},
   "outputs": [],
   "source": [
    "import matplotlib.lines as mlines\n",
    "sym = mlines.Line2D([], [], color='#1f77b4', marker='.', linestyle='None',\n",
    "                          markersize=15, label='MIS')"
   ]
  },
  {
   "cell_type": "code",
   "execution_count": null,
   "id": "f70ceb29-a148-4728-859f-df3fe459004e",
   "metadata": {
    "scrolled": true
   },
   "outputs": [],
   "source": [
    "fig,ax = plt.subplots(1,4,figsize=(20,4))\n",
    "\n",
    "\n",
    "prices =geometric_brownian_prices(max_drift=0.05,max_volatility=0.2,T=250,N=16)\n",
    "ax[0].plot(prices)\n",
    "ax[0].set_xlabel(\"Day\", fontsize=13)\n",
    "ax[0].set_ylabel(\"Price\", fontsize=13)\n",
    "ax[0].text(0.5,-0.22, \"(a)\", size=12, ha=\"center\", \n",
    "         transform=ax[0].transAxes)\n",
    "ax[0].set_title(\"Brownian Motion Price Data\", fontsize=14)\n",
    "\n",
    "m=0\n",
    "while(m<0.75):\n",
    "    points,dist,q = TSP_QUBO(5,1) ###resampl until aesthetic\n",
    "    m=np.min(dist[np.nonzero(dist)])\n",
    "order = np.concatenate(([0],np.argwhere(np.reshape(brute_force_max01(-q[-1])[0],(4,4))>0)[:,-1]+1,[0]))\n",
    "ax[1].scatter(*points.T, c='#d62728')\n",
    "ax[1].plot(*points[[order]].T,'-',label='Optimal Cycle', c='#d62728',alpha=0.5)\n",
    "edges = [[i,j] for i in range(5) for j in range(i+1,5)]\n",
    "for e in edges:\n",
    "    if(e not in np.sort([[order[i],order[i+1]] for i in range(5)],axis=1).tolist()):\n",
    "        ax[1].plot(*points[[e]].T,'--',alpha=0.45,color='#1f77b4')\n",
    "ax[1].plot([0],[0],'--',label='All Edges',alpha=0.45,color='#1f77b4')\n",
    "ax[1].legend(frameon=False)\n",
    "x_min, x_max = -1, 1\n",
    "y_min, y_max = -1, 1\n",
    "ax[1].set_xlim(x_min, x_max)\n",
    "ax[1].set_ylim(y_min, y_max)\n",
    "x_range = x_max - x_min\n",
    "y_range = y_max - y_min\n",
    "tick_step = 0.5  # Example step size\n",
    "ax[1].set_xticks(np.arange(x_min, x_max + tick_step, tick_step))\n",
    "ax[1].set_yticks(np.arange(y_min, y_max + tick_step, tick_step))\n",
    "ax[1].set_title(\"Travelling Salesman Optimal Route\", fontsize=14)\n",
    "ax[1].set_xlim(-1,1)\n",
    "ax[1].set_ylim(-1,1)\n",
    "ax[1].text(0.5,-0.22, \"(b)\", size=12, ha=\"center\", \n",
    "         transform=ax[1].transAxes)\n",
    "\n",
    "ax[2].set_title(\"MIS-GNP\", fontsize=14)\n",
    "ax[2].text(0.5,-0.22, \"(c)\", size=12, ha=\"center\", \n",
    "         transform=ax[2].transAxes)\n",
    "G=sample_graph(16)\n",
    "pos = nx.circular_layout(G)#,k=.35)\n",
    "l=np.argwhere(brute_force_max01(np.diag(np.ones(16))- (1.1/2) *nx.adjacency_matrix(G).toarray())[0]>0)[:,0]\n",
    "nx.draw_networkx(G, pos,ax=ax[2],node_size=50,with_labels=False,node_color=['#1f77b4' if i in l else \"#d62728\" for i in range(16)])\n",
    "ax[2].legend(handles=[sym])\n",
    "\n",
    "ax[3].set_title(\"MIS-NWS\", fontsize=14)\n",
    "ax[3].text(0.5,-0.22, \"(d)\", size=12, ha=\"center\", \n",
    "         transform=ax[3].transAxes)\n",
    "G=sample_graph(16,\"nws\")\n",
    "pos = nx.circular_layout(G)#,k=.75)\n",
    "l=np.argwhere(brute_force_max01(np.diag(np.ones(16))- (1.1/2) *nx.adjacency_matrix(G).toarray())[0]>0)[:,0]\n",
    "nx.draw_networkx(G, pos,ax=ax[3],node_size=50,with_labels=False,node_color=[\"#1f77b4\" if i in l else \"#d62728\" for i in range(16)])\n",
    "ax[3].legend(handles=[sym])\n",
    "fig.savefig(r'Figures\\Problem_Visualizer.pdf', dpi=300,bbox_inches=\"tight\")\n"
   ]
  }
 ],
 "metadata": {
  "kernelspec": {
   "display_name": "Python 3 (ipykernel)",
   "language": "python",
   "name": "python3"
  },
  "language_info": {
   "codemirror_mode": {
    "name": "ipython",
    "version": 3
   },
   "file_extension": ".py",
   "mimetype": "text/x-python",
   "name": "python",
   "nbconvert_exporter": "python",
   "pygments_lexer": "ipython3",
   "version": "3.12.2"
  }
 },
 "nbformat": 4,
 "nbformat_minor": 5
}
