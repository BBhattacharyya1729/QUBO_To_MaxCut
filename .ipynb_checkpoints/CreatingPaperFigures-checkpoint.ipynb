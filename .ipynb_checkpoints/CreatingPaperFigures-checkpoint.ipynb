{
 "cells": [
  {
   "cell_type": "code",
   "execution_count": null,
   "id": "e71ca709-31fb-4f9c-9d58-498eeda7b8d1",
   "metadata": {},
   "outputs": [],
   "source": [
    "create_legend_pdf(path=\"Figures/Paper_Figures/Legend.pdf\")\n",
    "\n",
    "combine_plots_vertical(\n",
    "    [\"Figures/RandomQUBOContinous/Full_Comparison.pdf\",\n",
    "     \"Figures/RandomQUBODiscrete/Full_Comparison.pdf\",\n",
    "     \"Figures/TSP/Full_Comparison.pdf\",\n",
    "     \"Figures/PortfolioOpt/Full_Comparison.pdf\",\n",
    "     \"Figures/MIS-GNP/Full_Comparison.pdf\",\n",
    "     \"Figures/MIS-NWS/Full_Comparison.pdf\",\n",
    "     \"Figures/Paper_Figures/Legend.pdf\"\n",
    "    ],\n",
    "    \"Figures/Paper_Figures/Paper_Full_Comparison.pdf\"\n",
    ")\n",
    "\n",
    "combine_plots_grid(\n",
    "    [\"Figures/RandomQUBOContinous/Full_Comparison_gw2.pdf\",\n",
    "     \"Figures/RandomQUBODiscrete/Full_Comparison_gw2.pdf\",\n",
    "     \"Figures/TSP/Full_Comparison_gw2.pdf\",\n",
    "     \"Figures/PortfolioOpt/Full_Comparison_gw2.pdf\",\n",
    "     \"Figures/MIS-GNP/Full_Comparison_gw2.pdf\",\n",
    "     \"Figures/MIS-NWS/Full_Comparison_gw2.pdf\",\n",
    "    ],\n",
    "    \"Figures/Paper_Figures/Paper_Full_Comparison_gw2_no_legend.pdf\"\n",
    ")\n",
    "\n",
    "combine_plots_grid(\n",
    "    [\"Figures/RandomQUBOContinous/Full_Comparison_gw3.pdf\",\n",
    "     \"Figures/RandomQUBODiscrete/Full_Comparison_gw3.pdf\",\n",
    "     \"Figures/TSP/Full_Comparison_gw3.pdf\",\n",
    "     \"Figures/PortfolioOpt/Full_Comparison_gw3.pdf\",\n",
    "     \"Figures/MIS-GNP/Full_Comparison_gw3.pdf\",\n",
    "     \"Figures/MIS-NWS/Full_Comparison_gw3.pdf\",\n",
    "    ],\n",
    "    \"Figures/Paper_Figures/Paper_Full_Comparison_gw3_no_legend.pdf\"\n",
    ")\n",
    "\n",
    "combine_plots_vertical(\n",
    "    [\"Figures/Paper_Figures/Paper_Full_Comparison_gw2_no_legend.pdf\",\n",
    "     \"Figures/Paper_Figures/Legend.pdf\"\n",
    "    ],\n",
    "    \"Figures/Paper_Figures/Paper_Full_Comparison_gw2.pdf\"\n",
    ")\n",
    "\n",
    "combine_plots_vertical(\n",
    "    [\"Figures/Paper_Figures/Paper_Full_Comparison_gw3_no_legend.pdf\",\n",
    "     \"Figures/Paper_Figures/Legend.pdf\"\n",
    "    ],\n",
    "    \"Figures/Paper_Figures/Paper_Full_Comparison_gw3.pdf\"\n",
    ")\n",
    "\n",
    "delete_files([\n",
    "    \"Figures/Paper_Figures/Paper_Full_Comparison_gw2_no_legend.pdf\",\n",
    "    \"Figures/Paper_Figures/Paper_Full_Comparison_gw3_no_legend.pdf\",\n",
    "])"
   ]
  }
 ],
 "metadata": {
  "kernelspec": {
   "display_name": "Python 3 (ipykernel)",
   "language": "python",
   "name": "python3"
  },
  "language_info": {
   "codemirror_mode": {
    "name": "ipython",
    "version": 3
   },
   "file_extension": ".py",
   "mimetype": "text/x-python",
   "name": "python",
   "nbconvert_exporter": "python",
   "pygments_lexer": "ipython3",
   "version": "3.12.2"
  }
 },
 "nbformat": 4,
 "nbformat_minor": 5
}
