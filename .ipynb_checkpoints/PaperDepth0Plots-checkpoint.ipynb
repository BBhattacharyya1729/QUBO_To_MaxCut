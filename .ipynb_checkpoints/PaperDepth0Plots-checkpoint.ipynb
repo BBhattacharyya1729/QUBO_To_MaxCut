{
 "cells": [
  {
   "cell_type": "code",
   "execution_count": null,
   "id": "3a4698c2-aa23-4eca-ba06-82feb05fe2b0",
   "metadata": {},
   "outputs": [],
   "source": [
    "import pickle as pkl\n",
    "from QAOAUtils import *\n",
    "from tqdm import tqdm\n",
    "from tqdm.contrib import itertools\n",
    "from tqdm.notebook import tqdm\n",
    "import matplotlib.pyplot as plt\n",
    "from matplotlib.markers import MarkerStyle\n",
    "from matplotlib.gridspec import GridSpec\n",
    "import pandas as pd"
   ]
  },
  {
   "cell_type": "code",
   "execution_count": null,
   "id": "dd9b6d9e-fd63-4867-afe8-aadad8fc75c1",
   "metadata": {},
   "outputs": [],
   "source": [
    "Random_QUBO_DATA= pkl.load( open (\"RandomQUBODepth0Test.p\", \"rb\") )\n",
    "TSP_MIS_DATA= pkl.load( open (\"TSPMISDepth0Test.p\", \"rb\") )\n",
    "PO_DATA= pkl.load( open (\"PortfolioOptDepth0Test.p\", \"rb\") )"
   ]
  },
  {
   "cell_type": "code",
   "execution_count": null,
   "id": "fd9cb5ab-b80e-4ae1-a95e-44ab134c06e1",
   "metadata": {},
   "outputs": [],
   "source": [
    "p_data = {'Continous':Random_QUBO_DATA[0:4],'Discrete':Random_QUBO_DATA[4:8]} | {'TSP':TSP_MIS_DATA[0:4]} | {'Portfolio Optimization':PO_DATA[0:4]} | {'MIS-GNP':TSP_MIS_DATA[4:8],'MIS-NWS':TSP_MIS_DATA[8:12]}\n",
    "A_list = {prob:p_data[prob][-1] for prob in p_data.keys()}\n"
   ]
  },
  {
   "cell_type": "code",
   "execution_count": null,
   "id": "b3b5e4f8-e8e8-4f34-a6da-d1ce7a1ecfa4",
   "metadata": {},
   "outputs": [],
   "source": [
    "m_list = {k:[] for k in p_data.keys()}\n",
    "for prob in p_data.keys():\n",
    "    for A in tqdm(p_data[prob][-1]):\n",
    "        m_list[prob].append(-brute_force_maxcut(-A)[-1] )"
   ]
  },
  {
   "cell_type": "code",
   "execution_count": null,
   "id": "7480eb61-b5db-4ddf-8f16-de0838c99dfb",
   "metadata": {},
   "outputs": [],
   "source": [
    "def plot(prob):\n",
    "    fig = plt.figure(figsize=(16, 8))\n",
    "    gs = GridSpec(4, 8, wspace=1.5, hspace=.75)\n",
    "    plt.suptitle(prob+' data')\n",
    "    output = {'cost':{},'probs':{}}\n",
    "    \n",
    "    comparison_data,best_angle_data,ws_data = p_data[prob][:-1]\n",
    "    n=p_data[prob][3][0].shape[0]\n",
    "\n",
    "    order = [[0, slice(0, 4)],[1, slice(0, 4)], [2, slice(0, 4)], [3, slice(0, 4)]]\n",
    "    for i,ws in enumerate(['BM2','BM3','GW2','GW3']):\n",
    "        ax = fig.add_subplot(gs[order[i][0], order[i][1]])\n",
    "        output['cost'][ws] = np.array(ax.hist(reduce(lambda x,y:x+y,best_angle_data[ws]['max_cost']),bins=range(0,n+2))[0],dtype='int')\n",
    "        ax.set_title(ws)\n",
    "        ax.set_ylabel('Count')\n",
    "        ax.set_xlabel('Vertex Rotation')\n",
    "        ax.get_xaxis().set_ticks(np.array(range(n+1))+.5)\n",
    "        ax.set_xticklabels([str(i) for i in range(n)]+[\"None\"])\n",
    "    \n",
    "    order = [[0, slice(4, 8)],[1, slice(4, 8)], [2, slice(4, 8)], [3, slice(4, 8)]]\n",
    "    for i,ws in enumerate(['BM2','BM3','GW2','GW3']):\n",
    "        ax = fig.add_subplot(gs[order[i][0], order[i][1]])\n",
    "        output['probs'][ws] = np.array(ax.hist(reduce(lambda x,y:x+y,best_angle_data[ws]['max_probs']),bins=range(0,n+2))[0],dtype='int')\n",
    "        ax.set_title(ws)\n",
    "        ax.set_ylabel('Count')\n",
    "        ax.set_xlabel('Vertex Rotation')\n",
    "        ax.get_xaxis().set_ticks(np.array(range(n+1))+.5)\n",
    "        ax.set_xticklabels([str(i) for i in range(n)]+[\"None\"])\n",
    "    plt.show()\n",
    "    return output "
   ]
  },
  {
   "cell_type": "code",
   "execution_count": null,
   "id": "d69300d6-2f22-4314-86a6-9129264e7a20",
   "metadata": {},
   "outputs": [],
   "source": [
    "best_angle_data = {prob:plot(prob) for prob in p_data.keys()}"
   ]
  },
  {
   "cell_type": "code",
   "execution_count": null,
   "id": "6b0e5e07-c724-45cd-97ca-522e0cc9e854",
   "metadata": {},
   "outputs": [],
   "source": [
    "prob_tex = {'BM2':'$\\\\textrm{BM}_2$','BM3':'$\\\\textrm{BM}_3$','GW2':'$\\\\textrm{GW}_2$','GW3':'$\\\\textrm{GW}_3$'}\n",
    "def get_latex_hist(prob):\n",
    "    cost_df=pd.DataFrame.from_dict(best_angle_data[prob]['cost'],orient='index',columns=np.array([str(i) for i in range(17)]+[\"None\"]))\n",
    "    cost_df_s = cost_df.style.format()\n",
    "    for row in cost_df.index:\n",
    "        if(cost_df.loc[row].max()>cost_df.loc[row].mean()+2*cost_df.loc[row].std()):\n",
    "            col = cost_df.loc[row].idxmax()\n",
    "            cost_df_s = cost_df_s.format(lambda x: \"\\\\color{red}{\\\\textbf{\" + f'{x}' + \"}}\", subset=(row,col))\n",
    "    \n",
    "    probs_df=pd.DataFrame.from_dict(best_angle_data[prob]['probs'],orient='index',columns=np.array([str(i) for i in range(17)]+[\"None\"]))\n",
    "    probs_df_s = probs_df.style.format()\n",
    "    for row in probs_df.index:\n",
    "        if(probs_df.loc[row].max()>probs_df.loc[row].mean()+2*probs_df.loc[row].std()):\n",
    "            col = probs_df.loc[row].idxmax()\n",
    "            probs_df_s = probs_df_s.format(lambda x: \"\\\\color{blue}{\\\\textbf{\" + f'{x}' + \"}}\", subset=(row,col))\n",
    "    if(prob == 'Continous'):\n",
    "        output = '\\\\begin{center}\\n\\\\captionof*{table}{\\\\fontsize{8pt}{8pt}\\\\selectfont '+prob+'}'+'\\n\\\\vspace{-0.3cm}\\n'+'\\n\\\\resizebox{\\\\textwidth}{!}{%\\n\\\\begin{tabular}{|l||*{18}{c|}}\\\\hline \\n \\\\backslashbox{$\\\\alpha$}{$\\\\mathcal{P}$}'+reduce(lambda x,y:x+y,[\"&\"+str(i) for i in range(17)]+[\"&None\"])+'\\n\\\\\\\\\\\\hline\\\\hline'\n",
    "    else:\n",
    "        output = '\\\\begin{center}\\n\\\\captionof*{table}{\\\\fontsize{8pt}{8pt}\\\\selectfont '+prob+'}\\n\\\\resizebox{\\\\textwidth}{!}{%\\n\\\\begin{tabular}{|l||*{18}{c|}}\\\\hline \\n \\\\backslashbox{$\\\\alpha$}{$\\\\mathcal{P}$}'+reduce(lambda x,y:x+y,[\"&\"+str(i) for i in range(17)]+[\"&None\"])+'\\n\\\\\\\\\\\\hline\\\\hline'\n",
    "    for j,ws in enumerate(['BM2','BM3','GW2','GW3']):\n",
    "        row = \"\\n\"+prob_tex[ws]+\" & \"\n",
    "        for i in range(18):\n",
    "            cost = [x.split(\"&\")[1:] for x in cost_df_s.to_latex().split(\"\\n\")[2:-2]][j][i]\n",
    "            probs = [x.split(\"&\")[1:] for x in probs_df_s.to_latex().split(\"\\n\")[2:-2]][j][i]\n",
    "            if(i == 17):\n",
    "                row+=(\"\\\\backslashbox{\"+cost[:-2]+\"}{\"+probs[:-2]+\"}\\\\\\\\\\\\hline\")\n",
    "            else:\n",
    "                row+=(\"\\\\backslashbox{\"+cost+\"}{\"+probs+\"}&\")\n",
    "        row+=\" \"\n",
    "        output+=row\n",
    "    output+='\\n'+'\\\\end{tabular}}\\n\\\\end{center}\\n'\n",
    "    return(output)"
   ]
  },
  {
   "cell_type": "code",
   "execution_count": null,
   "id": "5afbfb72-806c-4ece-8bc4-da78dd2296c5",
   "metadata": {},
   "outputs": [],
   "source": [
    "f = open(r'Figures\\hist_data.tex','w')\n",
    "print(\"\\\\begin{figure*}\\n\", file=f )\n",
    "for prob in p_data.keys():\n",
    "    print(get_latex_hist(prob), file=f)\n",
    "print(\"\\\\caption{Each cell contains how often each vertex-at-top rotation choice maximizes $\\\\alpha$ and $\\\\mathcal{P}$ for each warmstart. Problem Dataset is the $1000$ problem instances for each problem type (see Section~\\\\ref{setup}). Outliers for $\\\\alpha$ ($\\\\mathcal{P}$) are values which are $2$ standard deviations above the mean, and are indicated with {\\\\color{red}\\\\textbf{red}} ({\\\\color{blue}\\\\textbf{blue}})}\", file=f)\n",
    "print(\"\\\\label{HistData}\", file=f)\n",
    "print(\"\\\\end{figure*}\", file=f)\n",
    "f.close()\n"
   ]
  },
  {
   "cell_type": "code",
   "execution_count": null,
   "id": "a01f85ac-0b5a-4839-b457-dcdd58c33cea",
   "metadata": {},
   "outputs": [],
   "source": [
    "def get_mean_stds(prob):\n",
    "    output = {}\n",
    "    for w in (['BM2','BM3','GW2','GW3']):\n",
    "        comparison_data, best_angle_data, ws_data = p_data[prob][:-1]\n",
    "        m = np.array(m_list[prob])\n",
    "        M = np.array([d[-1] for d in ws_data])\n",
    "\n",
    "        first_alpha = (np.array(comparison_data[w][0]['cost'])-m)/(M-m)\n",
    "        none_alpha = (np.array(comparison_data[w][None]['cost'])-m)/(M-m)\n",
    "        last_alpha = (np.array(comparison_data[w][-1]['cost'])-m)/(M-m)\n",
    "\n",
    "        first_probs = np.array(comparison_data[w][0]['probs'])\n",
    "        none_probs = np.array(comparison_data[w][None]['probs'])\n",
    "        last_probs = np.array(comparison_data[w][-1]['probs'])\n",
    "\n",
    "        output[w] = [{\"First\":(np.mean(first_alpha),np.std(first_alpha)),\"Last\":(np.mean(last_alpha),np.std(last_probs)),\"None\":(np.mean(none_alpha),np.std(none_alpha))\n",
    "                      },{\"First\":(np.mean(first_probs),np.std(first_probs)),\"Last\":(np.mean(last_probs),np.std(last_probs)),\"None\":(np.mean(none_probs),np.std(none_probs))}]\n",
    "    return output"
   ]
  },
  {
   "cell_type": "code",
   "execution_count": null,
   "id": "94eebece-cf01-4676-a40a-dd95af60c02e",
   "metadata": {},
   "outputs": [],
   "source": [
    "def comp_tex(prob):\n",
    "    if(prob == 'Continous'):\n",
    "        output = '\\\\begin{center}\\n\\\\captionof*{table}{\\\\fontsize{8pt}{8pt}\\\\selectfont '+prob+'}'+'\\n\\\\vspace{-0.3cm}\\n'+'\\n\\\\resizebox{0.6\\\\textwidth}{!}{%\\n\\\\begin{tabular}{|c||c|c|c|}\\\\hline \\n \\\\backslashbox{$\\\\alpha$}{$\\\\mathcal{P}$}'+'&First&Last&None'+'\\n\\\\\\\\\\\\hline\\\\hline'\n",
    "\n",
    "    else:\n",
    "        output = '\\\\begin{center}\\n\\\\captionof*{table}{\\\\fontsize{8pt}{8pt}\\\\selectfont '+prob+'}\\n\\\\resizebox{0.6\\\\textwidth}{!}{%\\n\\\\begin{tabular}{|c||c|c|c|}\\\\hline \\n \\\\backslashbox{$\\\\alpha$}{$\\\\mathcal{P}$}'+'&First&Last&None'+'\\n\\\\\\\\\\\\hline\\\\hline'\n",
    "    data = get_mean_stds(prob)\n",
    "\n",
    "    \n",
    "\n",
    "\n",
    "    for w in (['BM2','BM3','GW2','GW3']):\n",
    "        s=\"\\n\"+prob_tex[w]+\" & \"\n",
    "        for l in [\"First\",\"Last\",\"None\"]:\n",
    "            cost_tex = \"{:.4f}\".format(data[w][0][l][0])+'\\\\pm'+\"{:.4f}\".format(data[w][0][l][1])\n",
    "            probs_tex = \"{:.4f}\".format(data[w][1][l][0])+'\\\\pm '+\"{:.4f}\".format(data[w][1][l][1])\n",
    "            \n",
    "            s+='\\\\backslashbox{$'+cost_tex+'$}{$'+probs_tex+'$}'\n",
    "            if(l != \"None\"):\n",
    "                s+='&'\n",
    "        s+='\\\\\\\\\\\\hline'\n",
    "        output+=s\n",
    "    output+=\"\\\\end{tabular}}\\n\"\n",
    "    output+=\"\\\\end{center}\"\n",
    "    return output"
   ]
  },
  {
   "cell_type": "code",
   "execution_count": null,
   "id": "d30e7682-3aab-4aa7-ba3b-49dcf5e8ea24",
   "metadata": {},
   "outputs": [],
   "source": [
    "f = open(r'Figures\\comp_data.tex','w')\n",
    "print(\"\\\\begin{figure*}\\n\", file=f )\n",
    "for prob in p_data.keys():\n",
    "    print(comp_tex(prob), file=f)\n",
    "print(\"\\\\caption{Each cell contains the mean and standard deviation of $\\\\alpha$ and $\\\\mathcal{P}$ for each warmstart/vertex-at-top rotation choice. Problem Dataset is the $1000$ problem instances for each problem type (see Section~\\\\ref{setup}).}\", file=f)\n",
    "print(\"\\\\label{CompData}\", file=f)\n",
    "print(\"\\\\end{figure*}\", file=f)\n",
    "f.close()"
   ]
  }
 ],
 "metadata": {
  "kernelspec": {
   "display_name": "Python 3 (ipykernel)",
   "language": "python",
   "name": "python3"
  },
  "language_info": {
   "codemirror_mode": {
    "name": "ipython",
    "version": 3
   },
   "file_extension": ".py",
   "mimetype": "text/x-python",
   "name": "python",
   "nbconvert_exporter": "python",
   "pygments_lexer": "ipython3",
   "version": "3.12.2"
  }
 },
 "nbformat": 4,
 "nbformat_minor": 5
}
