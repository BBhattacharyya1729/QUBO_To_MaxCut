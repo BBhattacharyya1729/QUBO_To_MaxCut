{
 "cells": [
  {
   "cell_type": "code",
   "execution_count": null,
   "id": "ce01b308-e4a6-4b95-b1e0-0b32e60af536",
   "metadata": {},
   "outputs": [],
   "source": [
    "import pickle as pkl\n",
    "from QAOAUtils import *\n",
    "from tqdm import tqdm\n",
    "from tqdm.contrib import itertools\n",
    "from tqdm.notebook import tqdm\n",
    "import matplotlib.pyplot as plt\n",
    "from matplotlib.markers import MarkerStyle\n",
    "from matplotlib.gridspec import GridSpec"
   ]
  },
  {
   "cell_type": "code",
   "execution_count": null,
   "id": "31a72055-6aae-4f36-93ae-e922b308ce15",
   "metadata": {},
   "outputs": [],
   "source": [
    "DATA = pkl.load( open (\"MISGNPFullTest.p\", \"rb\") )\n",
    "PSC_DATA = pkl.load( open (\"PSCMISGNPFullTest.p\", \"rb\") )\n",
    "depth_DATA= pkl.load( open (\"TSPMISDepth0Test.p\", \"rb\") )\n",
    "PSC_DATA50 = pkl.load( open (\"PSCMISGNPFullTest50.p\", \"rb\") )\n",
    "with open(\"DistancesMIS-GNP.p\", \"rb\") as file:\n",
    "    results = pkl.load(file)\n",
    "VDISTANCE50 = results[\"VDISTANCE50\"]\n",
    "DISTANCE50 = results[\"DISTANCE50\"]\n",
    "VDISTANCE10 = results[\"VDISTANCE10\"]\n",
    "DISTANCE10 = results[\"DISTANCE10\"]"
   ]
  },
  {
   "cell_type": "code",
   "execution_count": null,
   "id": "fe1cf1bf-a277-4a57-a4ce-ca3c7155a67a",
   "metadata": {},
   "outputs": [],
   "source": [
    "idx_list = np.linspace(50,950,10,dtype='int')\n",
    "M_list= [depth_DATA[6][i][-1] for i in idx_list]\n",
    "A_list = [depth_DATA[7][i] for i in idx_list]\n",
    "idx_dict = {'MIS-GNP':[0,10]}\n",
    "p_data = {'MIS-GNP':depth_DATA[4:8]}\n",
    "ws_list = ['BM2','BM3','GW2','GW3']"
   ]
  },
  {
   "cell_type": "code",
   "execution_count": null,
   "id": "a6ebada1-b7eb-4b20-b8e5-6ba76507a7ac",
   "metadata": {},
   "outputs": [],
   "source": [
    "max_cost_hist(\"MIS-GNP\",p_data, path=r'Figures\\MIS-GNP\\Max_Cost_Hist')"
   ]
  },
  {
   "cell_type": "code",
   "execution_count": null,
   "id": "6b60e383-5bab-409e-a0f2-c10b199a298c",
   "metadata": {},
   "outputs": [],
   "source": [
    "max_prob_hist(\"MIS-GNP\",p_data, path=r'Figures\\MIS-GNP\\Max_Prob_Hist')"
   ]
  },
  {
   "cell_type": "code",
   "execution_count": null,
   "id": "702f1156-edde-44fe-8be2-548bb8234e20",
   "metadata": {},
   "outputs": [],
   "source": [
    "cost_scatter(\"MIS-GNP\",p_data, path=r'Figures\\MIS-GNP\\Cost_Scatter')"
   ]
  },
  {
   "cell_type": "code",
   "execution_count": null,
   "id": "8be110b0-ab48-4f08-9e8f-3658d69d166c",
   "metadata": {},
   "outputs": [],
   "source": [
    "prob_boxplot(\"MIS-GNP\", p_data, path=r'Figures\\MIS-GNP\\Prob_BoxPlot')"
   ]
  },
  {
   "cell_type": "code",
   "execution_count": null,
   "id": "b19109d2-8442-480e-8668-5ad764b5c758",
   "metadata": {},
   "outputs": [],
   "source": [
    "final_boxplot(\"MIS-GNP\", p_data, path=r'Figures\\MIS-GNP\\Comparison_Boxplot')"
   ]
  },
  {
   "cell_type": "code",
   "execution_count": null,
   "id": "07ecf3ee-58d5-4276-8712-21dcc48d52c9",
   "metadata": {},
   "outputs": [],
   "source": [
    "get_depth_combined(\"MIS-GNP\", DATA, PSC_DATA50, M_list, A_list, idx_dict, path=r\"Figures\\MIS-GNP\\Full_Comparison\")"
   ]
  },
  {
   "cell_type": "code",
   "execution_count": null,
   "id": "07722e60-a6d4-4a0d-a5ea-5521fb0dfe1c",
   "metadata": {},
   "outputs": [],
   "source": [
    "get_depth_combined_gw2(\"MIS-GNP\", DATA, PSC_DATA50, M_list, A_list, idx_dict, path=r\"Figures\\MIS-GNP\\Full_Comparison_gw2\")"
   ]
  },
  {
   "cell_type": "code",
   "execution_count": null,
   "id": "03a443c0-39c1-4800-95bc-e051761ed5ae",
   "metadata": {},
   "outputs": [],
   "source": [
    "get_depth_combined_gw3(\"MIS-GNP\", DATA, PSC_DATA50, M_list, A_list, idx_dict, path=r\"Figures\\MIS-GNP\\Full_Comparison_gw3\")"
   ]
  }
 ],
 "metadata": {
  "kernelspec": {
   "display_name": "Python 3 (ipykernel)",
   "language": "python",
   "name": "python3"
  },
  "language_info": {
   "codemirror_mode": {
    "name": "ipython",
    "version": 3
   },
   "file_extension": ".py",
   "mimetype": "text/x-python",
   "name": "python",
   "nbconvert_exporter": "python",
   "pygments_lexer": "ipython3",
   "version": "3.12.2"
  }
 },
 "nbformat": 4,
 "nbformat_minor": 5
}
