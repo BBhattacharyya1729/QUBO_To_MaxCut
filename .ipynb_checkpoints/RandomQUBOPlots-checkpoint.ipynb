{
 "cells": [
  {
   "cell_type": "code",
   "execution_count": null,
   "id": "b61ca559-b40e-4be2-afb2-6c1b54b84060",
   "metadata": {
    "scrolled": true
   },
   "outputs": [],
   "source": [
    "import pickle as pkl\n",
    "from QAOAUtils import *\n",
    "from tqdm import tqdm\n",
    "from tqdm.contrib import itertools\n",
    "from tqdm.notebook import tqdm\n",
    "import matplotlib.pyplot as plt\n",
    "from matplotlib.markers import MarkerStyle\n",
    "from matplotlib.gridspec import GridSpec"
   ]
  },
  {
   "cell_type": "code",
   "execution_count": null,
   "id": "faa68549-f691-41c0-a8e5-4b905c8f90e4",
   "metadata": {},
   "outputs": [],
   "source": [
    "DATA = pkl.load( open (\"RandomQUBOFullTest.p\", \"rb\") )\n",
    "PSC_DATA = pkl.load( open (\"PSCRandomQUBOFullTest.p\", \"rb\") )\n",
    "depth_DATA= pkl.load( open (\"RandomQUBODepth0Test.p\", \"rb\") )\n",
    "PSC_DATA50 = pkl.load( open (\"PSCRandomQUBOFullTest50.p\", \"rb\") )\n",
    "with open(\"DistancesRandomQUBO_cont.p\", \"rb\") as file:\n",
    "    results_cont = pkl.load(file)\n",
    "VDISTANCE50_cont = results_cont[\"VDISTANCE50_cont\"]\n",
    "DISTANCE50_cont = results_cont[\"DISTANCE50_cont\"]\n",
    "VDISTANCE10_cont = results_cont[\"VDISTANCE10_cont\"]\n",
    "DISTANCE10_cont = results_cont[\"DISTANCE10_cont\"]\n",
    "with open(\"DistancesRandomQUBO_disc.p\", \"rb\") as file:\n",
    "    results_disc = pkl.load(file)\n",
    "VDISTANCE50_disc = results_disc[\"VDISTANCE50_disc\"]\n",
    "DISTANCE50_disc = results_disc[\"DISTANCE50_disc\"]\n",
    "VDISTANCE10_disc = results_disc[\"VDISTANCE10_disc\"]\n",
    "DISTANCE10_disc = results_disc[\"DISTANCE10_disc\"]"
   ]
  },
  {
   "cell_type": "code",
   "execution_count": null,
   "id": "e2167445-9a8a-4551-9276-93e3e3c1f9ee",
   "metadata": {},
   "outputs": [],
   "source": [
    "idx_list = np.linspace(50,950,10,dtype='int')\n",
    "M_list= [depth_DATA[2][i][-1] for i in idx_list]+[depth_DATA[6][i][-1] for i in idx_list]\n",
    "A_list = [depth_DATA[3][i] for i in idx_list] + [depth_DATA[7][i] for i in idx_list]\n",
    "idx_dict = {'Continous':[0,10],'Discrete':[10,20]}\n",
    "p_data = {'Continous':depth_DATA[0:4],'Discrete':depth_DATA[4:8]}\n",
    "ws_list = ['BM2','BM3','GW2','GW3']"
   ]
  },
  {
   "cell_type": "code",
   "execution_count": null,
   "id": "5b6b7443-0414-43ad-bdc3-20d24d5cef70",
   "metadata": {},
   "outputs": [],
   "source": [
    "max_cost_hist(\"Discrete\",p_data, path=r'Figures\\RandomQUBODiscrete\\Max_Cost_Hist')"
   ]
  },
  {
   "cell_type": "code",
   "execution_count": null,
   "id": "60eb0bbe-e128-49cd-bcc8-4a67e8e78614",
   "metadata": {},
   "outputs": [],
   "source": [
    "max_cost_hist(\"Continous\",p_data, path=r'Figures\\RandomQUBOContinous\\Max_Cost_Hist')"
   ]
  },
  {
   "cell_type": "code",
   "execution_count": null,
   "id": "1dbe95fe-5fa8-4d28-b49d-6a135397212d",
   "metadata": {},
   "outputs": [],
   "source": [
    "max_prob_hist(\"Discrete\",p_data, path=r'Figures\\RandomQUBODiscrete\\Max_Prob_Hist')"
   ]
  },
  {
   "cell_type": "code",
   "execution_count": null,
   "id": "abaec115-ea90-43c9-87f1-2b52b35e2342",
   "metadata": {},
   "outputs": [],
   "source": [
    "max_prob_hist(\"Continous\",p_data, path=r'Figures\\RandomQUBOContinous\\Max_Prob_Hist')"
   ]
  },
  {
   "cell_type": "code",
   "execution_count": null,
   "id": "c9ad04cc-7d9b-4178-a37b-c6a7add174bc",
   "metadata": {},
   "outputs": [],
   "source": [
    "cost_scatter(\"Discrete\",p_data, path=r'Figures\\RandomQUBODiscrete\\Cost_Scatter')"
   ]
  },
  {
   "cell_type": "code",
   "execution_count": null,
   "id": "bfb7fc19-9a20-4e5d-9f23-0518cf76b6ed",
   "metadata": {},
   "outputs": [],
   "source": [
    "cost_scatter(\"Continous\",p_data, path=r'Figures\\RandomQUBOContinous\\Cost_Scatter')"
   ]
  },
  {
   "cell_type": "code",
   "execution_count": null,
   "id": "0ff9b74d-793c-405b-8fd8-5c2b405af5f1",
   "metadata": {},
   "outputs": [],
   "source": [
    "prob_boxplot(\"Discrete\", p_data, path=r'Figures\\RandomQUBODiscrete\\Prob_BoxPlot')"
   ]
  },
  {
   "cell_type": "code",
   "execution_count": null,
   "id": "7b4f0c19-5d53-4597-9be5-f71a10c1d018",
   "metadata": {},
   "outputs": [],
   "source": [
    "prob_boxplot(\"Continous\", p_data, path=r'Figures\\RandomQUBOContinous\\Prob_BoxPlot')"
   ]
  },
  {
   "cell_type": "code",
   "execution_count": null,
   "id": "fdf049cb-1a2f-480b-a18a-eb2df3150da2",
   "metadata": {},
   "outputs": [],
   "source": [
    "final_boxplot(\"Discrete\", p_data, path=r'Figures\\RandomQUBODiscrete\\Comparison_Boxplot')"
   ]
  },
  {
   "cell_type": "code",
   "execution_count": null,
   "id": "d42f164f-8d7f-48c1-b348-6dc36710a6b4",
   "metadata": {},
   "outputs": [],
   "source": [
    "final_boxplot(\"Continous\", p_data, path=r'Figures\\RandomQUBOContinous\\Comparison_Boxplot')"
   ]
  },
  {
   "cell_type": "code",
   "execution_count": null,
   "id": "2ca13c25-4c7c-4be1-ba73-156da223a9ee",
   "metadata": {},
   "outputs": [],
   "source": [
    "get_depth_combined(\"Discrete\", DATA, PSC_DATA50, M_list, A_list, idx_dict, path=r\"Figures\\RandomQUBODiscrete\\Full_Comparison\")"
   ]
  },
  {
   "cell_type": "code",
   "execution_count": null,
   "id": "6081b6a3-5b69-4ccc-a648-01cb63ce3e23",
   "metadata": {},
   "outputs": [],
   "source": [
    "get_depth_combined(\"Continous\", DATA, PSC_DATA50, M_list, A_list, idx_dict, path=r\"Figures\\RandomQUBOContinous\\Full_Comparison\")"
   ]
  },
  {
   "cell_type": "code",
   "execution_count": null,
   "id": "9d203557-3af9-4513-8e3c-78dbe4a60baf",
   "metadata": {},
   "outputs": [],
   "source": [
    "get_depth_combined_gw2(\"Discrete\", DATA, PSC_DATA50, M_list, A_list, idx_dict, path=r'Figures\\RandomQUBODiscrete\\Full_Comparison_gw2')"
   ]
  },
  {
   "cell_type": "code",
   "execution_count": null,
   "id": "aa4df3fd-c7bf-4942-8fd6-4b2db91aa55c",
   "metadata": {},
   "outputs": [],
   "source": [
    "get_depth_combined_gw2(\"Continous\", DATA, PSC_DATA50, M_list, A_list, idx_dict,  path=r'Figures\\RandomQUBOContinous\\Full_Comparison_gw2')"
   ]
  },
  {
   "cell_type": "code",
   "execution_count": null,
   "id": "cbe77046-9575-4891-a0b4-fadbeed07346",
   "metadata": {},
   "outputs": [],
   "source": [
    "get_depth_combined_gw3(\"Discrete\", DATA, PSC_DATA50, M_list, A_list, idx_dict, path=r'Figures\\RandomQUBODiscrete\\Full_Comparison_gw3')"
   ]
  },
  {
   "cell_type": "code",
   "execution_count": null,
   "id": "bd022e1c-e0fd-4134-9808-f95f28ebef57",
   "metadata": {},
   "outputs": [],
   "source": [
    "get_depth_combined_gw3(\"Continous\", DATA, PSC_DATA50, M_list, A_list, idx_dict,  path=r'Figures\\RandomQUBOContinous\\Full_Comparison_gw3')"
   ]
  }
 ],
 "metadata": {
  "kernelspec": {
   "display_name": "Python 3 (ipykernel)",
   "language": "python",
   "name": "python3"
  },
  "language_info": {
   "codemirror_mode": {
    "name": "ipython",
    "version": 3
   },
   "file_extension": ".py",
   "mimetype": "text/x-python",
   "name": "python",
   "nbconvert_exporter": "python",
   "pygments_lexer": "ipython3",
   "version": "3.12.2"
  }
 },
 "nbformat": 4,
 "nbformat_minor": 5
}
