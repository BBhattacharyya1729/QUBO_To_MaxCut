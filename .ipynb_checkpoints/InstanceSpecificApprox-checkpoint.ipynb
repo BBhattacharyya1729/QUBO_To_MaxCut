{
 "cells": [
  {
   "cell_type": "code",
   "execution_count": null,
   "id": "3a4698c2-aa23-4eca-ba06-82feb05fe2b0",
   "metadata": {},
   "outputs": [],
   "source": [
    "import pickle as pkl\n",
    "from QAOAUtils import *\n",
    "from tqdm import tqdm\n",
    "from tqdm.contrib import itertools\n",
    "from tqdm.contrib.itertools import product\n",
    "from tqdm.notebook import tqdm\n",
    "import matplotlib.pyplot as plt\n",
    "from matplotlib.markers import MarkerStyle\n",
    "from matplotlib.gridspec import GridSpec\n",
    "import pandas as pd"
   ]
  },
  {
   "cell_type": "code",
   "execution_count": null,
   "id": "dd9b6d9e-fd63-4867-afe8-aadad8fc75c1",
   "metadata": {},
   "outputs": [],
   "source": [
    "Random_QUBO_DATA= pkl.load( open (\"RandomQUBODepth0Test.p\", \"rb\") )\n",
    "TSP_MIS_DATA= pkl.load( open (\"TSPMISDepth0Test.p\", \"rb\") )\n",
    "PO_DATA= pkl.load( open (\"PortfolioOptDepth0Test.p\", \"rb\") )\n",
    "\n",
    "p_data = {'Continous':Random_QUBO_DATA[0:4],'Discrete':Random_QUBO_DATA[4:8]} | {'TSP':TSP_MIS_DATA[0:4]} | {'Portfolio Optimization':PO_DATA[0:4]} | {'MIS-GNP':TSP_MIS_DATA[4:8],'MIS-NWS':TSP_MIS_DATA[8:12]}\n",
    "A_list = {prob:p_data[prob][-1] for prob in p_data.keys()}\n",
    "M_list= {prob:[p_data[prob][2][i][-1] for i in range(1000)] for prob in p_data.keys()}\n",
    "\n",
    "m_list = {k:[] for k in p_data.keys()}\n",
    "for prob,idx in product(p_data.keys(),range(1000)):\n",
    "        A = A_list[prob][idx]\n",
    "        m_list[prob].append(-brute_force_maxcut(-A)[-1] )"
   ]
  },
  {
   "cell_type": "code",
   "execution_count": null,
   "id": "1351bbb0-6c0d-4819-9cb4-bd874d017b2b",
   "metadata": {},
   "outputs": [],
   "source": [
    "M_list= {prob:[p_data[prob][2][i][-1] for i in range(1000)] for prob in p_data.keys()}\n",
    "res = 101\n",
    "counts = {prob:[0]*res for prob in p_data.keys()}\n",
    "for prob,idx in product(p_data.keys(),range(1000)):\n",
    "    A = A_list[prob][idx]\n",
    "    M = M_list[prob][idx]\n",
    "    m = m_list[prob][idx]\n",
    "    pre = pre_compute(A)\n",
    "    for i in np.floor(((pre-m)/(M-m))*res):\n",
    "        counts[prob][min(int(i),res-1)]+=1/(2**17 * 1000)\n",
    "    "
   ]
  },
  {
   "cell_type": "code",
   "execution_count": null,
   "id": "a713a4d7-dd74-4666-89fb-55327089e55a",
   "metadata": {},
   "outputs": [],
   "source": [
    "fig,ax = plt.subplots(1,len(p_data.keys()),figsize=(20,3),sharey=False)\n",
    "plt.rcParams['text.latex.preamble'] = r'\\usepackage{amsmath}'\n",
    "for (i,prob) in enumerate(p_data.keys()):\n",
    "    ax[i].stairs(np.array(counts[prob])/np.max(counts[prob]),np.linspace(0,1,res+1),fill=True)\n",
    "    ax[i].set_xlabel(r'${\\alpha}$', fontsize=13)\n",
    "    ax[i].set_title(prob, fontsize=14)\n",
    "    if(i>0):\n",
    "        ax[i].set_yticks([])\n",
    "    else:\n",
    "        ax[i].set_ylabel(r'$P/P_\\mathrm{max}$', fontsize=13)\n",
    "    ax[i].text(0.5,-0.3, r'$P_\\mathrm{max}=$' + str(np.round(np.max(counts[prob])*res,2)), size=14, ha=\"center\", \n",
    "         transform=ax[i].transAxes)\n",
    "plt.subplots_adjust(wspace=0) \n",
    "plt.savefig(r'Figures\\AlphaDistributions.pdf',dpi=300,bbox_inches=\"tight\")\n",
    "plt.show()"
   ]
  }
 ],
 "metadata": {
  "kernelspec": {
   "display_name": "Python 3 (ipykernel)",
   "language": "python",
   "name": "python3"
  },
  "language_info": {
   "codemirror_mode": {
    "name": "ipython",
    "version": 3
   },
   "file_extension": ".py",
   "mimetype": "text/x-python",
   "name": "python",
   "nbconvert_exporter": "python",
   "pygments_lexer": "ipython3",
   "version": "3.12.2"
  }
 },
 "nbformat": 4,
 "nbformat_minor": 5
}
