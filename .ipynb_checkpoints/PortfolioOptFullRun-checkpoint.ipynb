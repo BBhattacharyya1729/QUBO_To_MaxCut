{
 "cells": [
  {
   "cell_type": "code",
   "execution_count": null,
   "id": "a7aec3c0-c804-48ed-bf8b-f83e7fd0c19f",
   "metadata": {},
   "outputs": [],
   "source": [
    "from QAOAUtils import *\n",
    "from PSC import *\n",
    "import pickle as pkl\n",
    "from qiskit_algorithms.optimizers import COBYLA"
   ]
  },
  {
   "cell_type": "code",
   "execution_count": null,
   "id": "e7d9211d-56f8-4c98-a8c5-3fde18b4c810",
   "metadata": {},
   "outputs": [],
   "source": [
    "DATA = pkl.load( open (\"PortfolioOptDepth0Test.p\", \"rb\") )\n",
    "stock_data = pkl.load( open (\"stock_data_depth0.p\", \"rb\") )"
   ]
  },
  {
   "cell_type": "code",
   "execution_count": null,
   "id": "2558f2fa-ecb1-4cc9-98e7-44aaffa70c2f",
   "metadata": {},
   "outputs": [],
   "source": [
    "idx_list = np.linspace(50,950,10,dtype='int')\n",
    "\n",
    "PO_A_list = [DATA[3][i] for i in idx_list]\n",
    "stock_data_list = [stock_data[i] for i in idx_list]\n",
    "PO_init_list = [DATA[2][i] for i in idx_list]\n",
    "\n",
    "DATA = []\n",
    "PSC_DATA = []\n",
    "PSC_DATA50 = []\n",
    "ws_list  = ['GW2','GW3', 'BM2', 'BM3', None]\n",
    "###Configure \n",
    "opt=COBYLA(maxiter=50)"
   ]
  },
  {
   "cell_type": "code",
   "execution_count": null,
   "id": "eaddcb61-1e52-4fbf-91c7-bf38b4b24030",
   "metadata": {},
   "outputs": [],
   "source": [
    "for _ in tqdm(range(10)):\n",
    "    A = PO_A_list[_]\n",
    "    initial_data = PO_init_list[_]\n",
    "    do=warmstart_comp(A=A,opt=opt,p_max=5,rotation_options=[0,-1,None],reps=10,optimizer_kwargs={'name':None,'verbose':False},ws_list=ws_list,initial_data=initial_data,keep_hist=True)\n",
    "    DATA.append(do[-1])"
   ]
  },
  {
   "cell_type": "code",
   "execution_count": null,
   "id": "3e7e0f16-f0a3-405b-aeec-62ce5027d0a6",
   "metadata": {},
   "outputs": [],
   "source": [
    "pkl.dump( DATA, open( \"PortfolioOptFullTest.p\", \"wb\" ) )"
   ]
  },
  {
   "cell_type": "code",
   "execution_count": null,
   "id": "90892696-f53d-492e-ae97-24c19aca6611",
   "metadata": {},
   "outputs": [],
   "source": [
    "for _ in tqdm(range(10)):\n",
    "    A = PO_A_list[_]\n",
    "    PO_data = stock_data_list[_]\n",
    "    do = PSC_Run(A,opt,p_max=5,optimizer_kwargs={'name':None,'verbose':False},keep_hist=False,eps=0.1,reps=10,PO_data=PO_data)\n",
    "    PSC_DATA.append(do)"
   ]
  },
  {
   "cell_type": "code",
   "execution_count": null,
   "id": "173e2f14-39cb-4755-89fc-31e06833b740",
   "metadata": {},
   "outputs": [],
   "source": [
    "pkl.dump( PSC_DATA, open( \"PSCPortfolioOptFullTest.p\", \"wb\" ) )"
   ]
  },
  {
   "cell_type": "code",
   "execution_count": null,
   "id": "72f16a29-7936-481d-bae3-d29898854cd8",
   "metadata": {},
   "outputs": [],
   "source": [
    "for _ in tqdm(range(10)):\n",
    "    A = PO_A_list[_]\n",
    "    PO_data = stock_data_list[_]\n",
    "    do = PSC_Run(A,opt,p_max=5,optimizer_kwargs={'name':None,'verbose':False},keep_hist=False,eps=0.1,reps=10,PO_data=PO_data,relaxed_reps=50)\n",
    "    PSC_DATA50.append(do)"
   ]
  },
  {
   "cell_type": "code",
   "execution_count": null,
   "id": "71042972-39f4-4d14-b7ff-bfaeaae27229",
   "metadata": {},
   "outputs": [],
   "source": [
    "pkl.dump( PSC_DATA50, open( \"PSCPortfolioOptFullTest50.p\", \"wb\" ) )"
   ]
  }
 ],
 "metadata": {
  "kernelspec": {
   "display_name": "Python 3 (ipykernel)",
   "language": "python",
   "name": "python3"
  },
  "language_info": {
   "codemirror_mode": {
    "name": "ipython",
    "version": 3
   },
   "file_extension": ".py",
   "mimetype": "text/x-python",
   "name": "python",
   "nbconvert_exporter": "python",
   "pygments_lexer": "ipython3",
   "version": "3.12.2"
  }
 },
 "nbformat": 4,
 "nbformat_minor": 5
}
