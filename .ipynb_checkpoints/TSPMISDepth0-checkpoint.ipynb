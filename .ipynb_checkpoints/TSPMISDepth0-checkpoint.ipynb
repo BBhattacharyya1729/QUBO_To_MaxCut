{
 "cells": [
  {
   "cell_type": "code",
   "execution_count": null,
   "id": "557e205b-e979-4283-b1ab-93f5650b0a10",
   "metadata": {},
   "outputs": [],
   "source": [
    "from QAOAUtils import *\n",
    "from oputils import *\n",
    "import pickle as pkl"
   ]
  },
  {
   "cell_type": "code",
   "execution_count": null,
   "id": "5e295bcf-210d-4852-817c-022d5765f3bd",
   "metadata": {},
   "outputs": [],
   "source": [
    "DATA = []\n",
    "ws_list = ['GW2','GW3','BM2','BM3']\n",
    "n = 17\n",
    "rotation_options = list(range(n))+[None]\n",
    "count=1000"
   ]
  },
  {
   "cell_type": "code",
   "execution_count": null,
   "id": "62498455-d00e-474a-82d6-118b98237480",
   "metadata": {},
   "outputs": [],
   "source": [
    "comparison_data,best_angle_data,ws_data,A_list= depth0_ws_comp(n,lambda: dual_graph(-TSP_QUBO(5,1)[-1][-1]),ws_list = ws_list,rotation_options = rotation_options,count=count)\n",
    "DATA+=[comparison_data,best_angle_data,ws_data,A_list]"
   ]
  },
  {
   "cell_type": "code",
   "execution_count": null,
   "id": "bd3ade4a-d095-49ff-abbd-187b6fc5b7cc",
   "metadata": {},
   "outputs": [],
   "source": [
    "comparison_data,best_angle_data,ws_data,A_list = depth0_ws_comp(n,lambda: dual_graph(MIS_QUBO(n-1)),ws_list = ws_list,rotation_options = rotation_options,count=count)\n",
    "DATA+=[comparison_data,best_angle_data,ws_data,A_list]"
   ]
  },
  {
   "cell_type": "code",
   "execution_count": null,
   "id": "cdce79df-49e6-4c31-8d2d-cd8f12692059",
   "metadata": {},
   "outputs": [],
   "source": [
    "comparison_data,best_angle_data,ws_data,A_list = depth0_ws_comp(n,lambda: dual_graph(MIS_QUBO(n-1,'nws')),ws_list = ws_list,rotation_options = rotation_options,count=count)\n",
    "DATA+=[comparison_data,best_angle_data,ws_data,A_list]"
   ]
  },
  {
   "cell_type": "code",
   "execution_count": null,
   "id": "4d774d74-26bf-40bd-b165-19fffd4714a2",
   "metadata": {},
   "outputs": [],
   "source": [
    "pkl.dump( DATA, open( \"TSPMISDepth0Test.p\", \"wb\" ) )"
   ]
  }
 ],
 "metadata": {
  "kernelspec": {
   "display_name": "Python 3 (ipykernel)",
   "language": "python",
   "name": "python3"
  },
  "language_info": {
   "codemirror_mode": {
    "name": "ipython",
    "version": 3
   },
   "file_extension": ".py",
   "mimetype": "text/x-python",
   "name": "python",
   "nbconvert_exporter": "python",
   "pygments_lexer": "ipython3",
   "version": "3.12.2"
  }
 },
 "nbformat": 4,
 "nbformat_minor": 5
}
