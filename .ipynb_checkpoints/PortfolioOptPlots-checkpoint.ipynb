{
 "cells": [
  {
   "cell_type": "code",
   "execution_count": null,
   "id": "dd915e84-b9e0-4973-87a6-d5e1080118c3",
   "metadata": {},
   "outputs": [],
   "source": [
    "import pickle as pkl\n",
    "from QAOAUtils import *\n",
    "from tqdm import tqdm\n",
    "from tqdm.contrib import itertools\n",
    "from tqdm.notebook import tqdm\n",
    "import matplotlib.pyplot as plt\n",
    "from matplotlib.markers import MarkerStyle\n",
    "from matplotlib.gridspec import GridSpec"
   ]
  },
  {
   "cell_type": "code",
   "execution_count": null,
   "id": "21e8b768-ee25-458c-98fd-4cf2082b8c69",
   "metadata": {},
   "outputs": [],
   "source": [
    "DATA = pkl.load( open (\"PortfolioOptFullTest.p\", \"rb\") )\n",
    "PSC_DATA = pkl.load( open (\"PSCPortfolioOptFullTest.p\", \"rb\") )\n",
    "PSC_DATA50 = pkl.load( open (\"PSCPortfolioOptFullTest50.p\", \"rb\") )\n",
    "depth_DATA= pkl.load( open (\"PortfolioOptDepth0Test.p\", \"rb\") )\n",
    "with open(\"DistancesPO.p\", \"rb\") as file:\n",
    "    results = pkl.load(file)\n",
    "VDISTANCE = results[\"VDISTANCE\"]\n",
    "DISTANCE = results[\"DISTANCE\"]\n",
    "EMPTYDATA = []"
   ]
  },
  {
   "cell_type": "code",
   "execution_count": null,
   "id": "3edb3e56-f7bb-4875-8ebc-5f6a5e556ca8",
   "metadata": {},
   "outputs": [],
   "source": [
    "idx_list = np.linspace(50,950,10,dtype='int')\n",
    "M_list= [depth_DATA[2][i][-1] for i in idx_list]\n",
    "A_list = [depth_DATA[3][i] for i in idx_list]\n",
    "idx_dict = {'Portfolio Optimization':[0,10]}\n",
    "p_data = {'Portfolio Optimization':depth_DATA[0:4]}\n",
    "ws_list = ['BM2','BM3','GW2','GW3']"
   ]
  },
  {
   "cell_type": "code",
   "execution_count": null,
   "id": "ec710775-a323-4fa1-b66c-5adfdf8bf750",
   "metadata": {},
   "outputs": [],
   "source": [
    "max_cost_hist(\"Portfolio Optimization\",p_data, path=r'Figures\\PortfolioOpt\\Max_Cost_Hist')"
   ]
  },
  {
   "cell_type": "code",
   "execution_count": null,
   "id": "e2071dec-9034-4ce7-9ff3-3706d2157ac0",
   "metadata": {},
   "outputs": [],
   "source": [
    "max_prob_hist(\"Portfolio Optimization\",p_data, path=r'Figures\\PortfolioOpt\\Max_Prob_Hist')"
   ]
  },
  {
   "cell_type": "code",
   "execution_count": null,
   "id": "0d824ebd-a33d-4e85-8f07-025d08c2bc6e",
   "metadata": {},
   "outputs": [],
   "source": [
    "cost_scatter(\"Portfolio Optimization\",p_data, path=r'Figures\\PortfolioOpt\\Cost_Scatter')"
   ]
  },
  {
   "cell_type": "code",
   "execution_count": null,
   "id": "23b15bbf-99ae-4f7b-8f68-d630ad69ecaf",
   "metadata": {},
   "outputs": [],
   "source": [
    "prob_boxplot(\"Portfolio Optimization\", p_data, path=r'Figures\\PortfolioOpt\\Prob_BoxPlot')"
   ]
  },
  {
   "cell_type": "code",
   "execution_count": null,
   "id": "24cce2bf-f71d-4225-b192-1822b90f2725",
   "metadata": {},
   "outputs": [],
   "source": [
    "final_boxplot(\"Portfolio Optimization\", p_data, path=r'Figures\\PortfolioOpt\\Comparison_Boxplot')"
   ]
  },
  {
   "cell_type": "code",
   "execution_count": null,
   "id": "7fbf7de6-df82-48d8-90ff-1cbfea5adea4",
   "metadata": {},
   "outputs": [],
   "source": [
    "get_depth_combined(\"Portfolio Optimization\", DATA, PSC_DATA50, M_list, A_list, idx_dict, path=r\"Figures\\PortfolioOpt\\Full_Comparison\")"
   ]
  },
  {
   "cell_type": "code",
   "execution_count": null,
   "id": "f30cb038-2b69-458b-be96-5b4dadda81ff",
   "metadata": {},
   "outputs": [],
   "source": [
    "get_depth_combined_gw2(\"Portfolio Optimization\", DATA, PSC_DATA50, M_list, A_list, idx_dict, path=r\"Figures\\PortfolioOpt\\Full_Comparison_gw2\")"
   ]
  },
  {
   "cell_type": "code",
   "execution_count": null,
   "id": "32bad590-2d1b-4686-944b-54fe5bd6642c",
   "metadata": {},
   "outputs": [],
   "source": [
    "get_depth_combined_gw3(\"Portfolio Optimization\", DATA, PSC_DATA50, M_list, A_list, idx_dict, path=r\"Figures\\PortfolioOpt\\Full_Comparison_gw3\")"
   ]
  }
 ],
 "metadata": {
  "kernelspec": {
   "display_name": "Python 3 (ipykernel)",
   "language": "python",
   "name": "python3"
  },
  "language_info": {
   "codemirror_mode": {
    "name": "ipython",
    "version": 3
   },
   "file_extension": ".py",
   "mimetype": "text/x-python",
   "name": "python",
   "nbconvert_exporter": "python",
   "pygments_lexer": "ipython3",
   "version": "3.12.2"
  }
 },
 "nbformat": 4,
 "nbformat_minor": 5
}
