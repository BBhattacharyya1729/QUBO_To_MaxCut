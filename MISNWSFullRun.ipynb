{
 "cells": [
  {
   "cell_type": "code",
   "execution_count": null,
   "id": "22697843-52f7-4468-a619-d142ed9c19f9",
   "metadata": {},
   "outputs": [],
   "source": [
    "from QAOAUtils import *\n",
    "from PSC import *\n",
    "import pickle as pkl\n",
    "from qiskit_algorithms.optimizers import COBYLA"
   ]
  },
  {
   "cell_type": "code",
   "execution_count": null,
   "id": "e95dabb8-7e0a-4bee-8e9b-02d92eccb925",
   "metadata": {},
   "outputs": [],
   "source": [
    "DATA = pkl.load( open (\"TSPMISDepth0Test.p\", \"rb\") )"
   ]
  },
  {
   "cell_type": "code",
   "execution_count": null,
   "id": "66580774-e689-4bd1-a02f-294a9baa8bec",
   "metadata": {},
   "outputs": [],
   "source": [
    "idx_list = np.linspace(50,950,10,dtype='int')\n",
    "\n",
    "MIS_A_list = [DATA[11][i] for i in idx_list]\n",
    "MIS_init_list = [DATA[10][i] for i in idx_list]\n",
    "\n",
    "DATA = []\n",
    "PSC_DATA = []\n",
    "PSC_DATA50 = []\n",
    "ws_list  = ['GW2','GW3', 'BM2', 'BM3', None]\n",
    "###Configure \n",
    "opt=COBYLA(maxiter=50)"
   ]
  },
  {
   "cell_type": "code",
   "execution_count": null,
   "id": "871b75c8-e331-4645-b34c-4b6d355f79ba",
   "metadata": {},
   "outputs": [],
   "source": [
    "for _ in tqdm(range(10)):\n",
    "    A = MIS_A_list[_]\n",
    "    initial_data = MIS_init_list[_]\n",
    "    do=warmstart_comp(A=A,opt=opt,p_max=5,rotation_options=[0,-1,None],reps=10,optimizer_kwargs={'name':None,'verbose':False},ws_list=ws_list,initial_data=initial_data,keep_hist=True)\n",
    "    DATA.append(do[-1])"
   ]
  },
  {
   "cell_type": "code",
   "execution_count": null,
   "id": "da02bd77-4881-4b63-bba4-62520c49333c",
   "metadata": {},
   "outputs": [],
   "source": [
    "pkl.dump( DATA, open( \"MISNWSFullTest.p\", \"wb\" ) )"
   ]
  },
  {
   "cell_type": "code",
   "execution_count": null,
   "id": "3bfa75ea-8a24-4f94-b6a7-22bbcd3ba75c",
   "metadata": {},
   "outputs": [],
   "source": [
    "for _ in tqdm(range(10)):\n",
    "    A = MIS_A_list[_]\n",
    "    do = PSC_Run(A,opt,p_max=5,optimizer_kwargs={'name':None,'verbose':False},keep_hist=False,eps=0.1,reps=10)\n",
    "    PSC_DATA.append(do)"
   ]
  },
  {
   "cell_type": "code",
   "execution_count": null,
   "id": "2cdbfd3d-c057-4ef5-a61d-cadde046a6a4",
   "metadata": {},
   "outputs": [],
   "source": [
    "pkl.dump( PSC_DATA, open( \"PSCMISNWSFullTest.p\", \"wb\" ) )"
   ]
  },
  {
   "cell_type": "code",
   "execution_count": null,
   "id": "e238adef-34b3-4fc2-b188-78f84818470a",
   "metadata": {},
   "outputs": [],
   "source": [
    "for _ in tqdm(range(10)):\n",
    "    A = MIS_A_list[_]\n",
    "    do = PSC_Run(A,opt,p_max=5,optimizer_kwargs={'name':None,'verbose':False},keep_hist=False,eps=0.1,reps=10,relaxed_reps=50)\n",
    "    PSC_DATA50.append(do)"
   ]
  },
  {
   "cell_type": "code",
   "execution_count": null,
   "id": "f8094a09-8610-4dc1-a33c-c7bc8aa6f11e",
   "metadata": {},
   "outputs": [],
   "source": [
    "pkl.dump( PSC_DATA50, open( \"PSCMISNWSFullTest50.p\", \"wb\" ) )"
   ]
  }
 ],
 "metadata": {
  "kernelspec": {
   "display_name": "Python 3 (ipykernel)",
   "language": "python",
   "name": "python3"
  },
  "language_info": {
   "codemirror_mode": {
    "name": "ipython",
    "version": 3
   },
   "file_extension": ".py",
   "mimetype": "text/x-python",
   "name": "python",
   "nbconvert_exporter": "python",
   "pygments_lexer": "ipython3",
   "version": "3.12.2"
  }
 },
 "nbformat": 4,
 "nbformat_minor": 5
}
